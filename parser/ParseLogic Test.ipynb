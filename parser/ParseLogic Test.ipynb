{
 "cells": [
  {
   "cell_type": "markdown",
   "metadata": {},
   "source": [
    "## A testbed to understand and test RITHM Parser's \"ParseLogic\" functionality"
   ]
  },
  {
   "cell_type": "code",
   "execution_count": 1,
   "metadata": {},
   "outputs": [],
   "source": [
    "# Import necessary built-in (standard library) modules \n",
    "import sys"
   ]
  },
  {
   "cell_type": "code",
   "execution_count": 2,
   "metadata": {},
   "outputs": [
    {
     "name": "stdout",
     "output_type": "stream",
     "text": [
      "/home/jcolditz/Jupyter Notebooks\r\n"
     ]
    }
   ],
   "source": [
    "# Current working directory\n",
    "!pwd"
   ]
  },
  {
   "cell_type": "code",
   "execution_count": 3,
   "metadata": {},
   "outputs": [],
   "source": [
    "# Add RITHM Parser path and import necessary modules\n",
    "\n",
    "#sys.path.append('/home/jcolditz/twitter/RITHM/parser') # direct path\n",
    "sys.path.append('../twitter/RITHM/parser') # relative path\n",
    "\n",
    "import parselogic "
   ]
  },
  {
   "cell_type": "code",
   "execution_count": 4,
   "metadata": {},
   "outputs": [
    {
     "name": "stdout",
     "output_type": "stream",
     "text": [
      "Help on module parselogic:\n",
      "\n",
      "NAME\n",
      "    parselogic\n",
      "\n",
      "DESCRIPTION\n",
      "    Created on Tue May 29 20:18:09 2018\n",
      "    @author: colditzjb\n",
      "\n",
      "FUNCTIONS\n",
      "    emojifile(efile='emojilist.csv')\n",
      "    \n",
      "    emojify(text)\n",
      "    \n",
      "    match(test, text)\n",
      "        # This performs matching on text, using boolean test phrases\n",
      "    \n",
      "    reformat(text, mode=1.0, modes={'tsv': '1.0', 'csv': '1.5', 'two': '2.0', 'mac': '2.5', 'hum': '3.5', 'kws': '4.5'}, lcase=False, ht_include=True, emoji=None)\n",
      "        ### REFORMAT FUNCTION\n",
      "        # \n",
      "        # This reformats text so that it is keyword searchable or machine/human readable\n",
      "        # Format selection relies on bandwidths of float numbers (as above, so below)\n",
      "        #   \"mode\" argument options currently include: \n",
      "        #     1.0 'tsv' = Only replace tabs, and hard returns (TSV compatability) \n",
      "        #                 This is currently the default for output. \n",
      "        #     1.5 'csv' = Replace commas, tabs, and hard returns (CSV compatability) \n",
      "        #     2.0 'two' = Use O'Connor \"Twokenize.py\" for formatting\n",
      "        #     2.5 'mac' = Standard machine processing (buffer spacing for tokenizing)\n",
      "        #     2.x [TBD] = More machine processing (include modes for stemming, etc.)\n",
      "        #     3.5 'hum' = Format for maximum human readability (useful for annotation)\n",
      "        #     4.5 'kws' = Format for keyword matching (default for search procedures)\n",
      "        #\n",
      "        #   \"lcase\" argument is optional. All text will be reduced to lowercase. \n",
      "        #   \"ht_include\" argument is optional. Hashtags will be included w/ basic keywords. \n",
      "        #   \"emoji\" argument is optional. Emoji will be recoded if filepath is valid. \n",
      "        ###\n",
      "\n",
      "DATA\n",
      "    emojis = {}\n",
      "    modes = {'csv': '1.5', 'hum': '3.5', 'kws': '4.5', 'mac': '2.5', 'tsv'...\n",
      "\n",
      "FILE\n",
      "    /home/jcolditz/twitter/RITHM/parser/parselogic.py\n",
      "\n",
      "\n"
     ]
    }
   ],
   "source": [
    "#Display the functions and what not\n",
    "help(parselogic)"
   ]
  },
  {
   "cell_type": "code",
   "execution_count": 5,
   "metadata": {},
   "outputs": [],
   "source": [
    "# Data for testing\n",
    "texts = ['THIS TWEET is about Vaping and water-vapor.',\n",
    "        'But I also want to know more about #vape, #vapor, and #vapelyfe hashtags;',\n",
    "        'or maybe I only want to know about \"vape\"',\n",
    "        '...and I do like VaporWave music, though this is irrelevant!']\n",
    "\n",
    "tests = ['vape',\n",
    "        '#vape',\n",
    "        'vapor',\n",
    "        'vape & vapor',\n",
    "        'vape | vapor',\n",
    "        'vape & !vapor',\n",
    "        'vap*',\n",
    "        'vap* & ! know about',\n",
    "        '*wave mus*',\n",
    "        'vap* & !*wave']\n"
   ]
  },
  {
   "cell_type": "code",
   "execution_count": 6,
   "metadata": {},
   "outputs": [
    {
     "name": "stdout",
     "output_type": "stream",
     "text": [
      "---------------------------------------\n",
      "TEST ARGUMENT: vape\n",
      "---------------------------------------\n",
      "MATCH:\tORIGINAL TEXT:\n",
      "False\tTHIS TWEET is about Vaping and water-vapor.\n",
      "False\tBut I also want to know more about #vape, #vapor, and #vapelyfe hashtags;\n",
      "False\tor maybe I only want to know about \"vape\"\n",
      "False\t...and I do like VaporWave music, though this is irrelevant!\n",
      "\n",
      "\n",
      "---------------------------------------\n",
      "TEST ARGUMENT: #vape\n",
      "---------------------------------------\n",
      "MATCH:\tORIGINAL TEXT:\n",
      "False\tTHIS TWEET is about Vaping and water-vapor.\n",
      "False\tBut I also want to know more about #vape, #vapor, and #vapelyfe hashtags;\n",
      "False\tor maybe I only want to know about \"vape\"\n",
      "False\t...and I do like VaporWave music, though this is irrelevant!\n",
      "\n",
      "\n"
     ]
    }
   ],
   "source": [
    "# This is what happens when you call match() without pre-formatting text (there are no matches)\n",
    "\n",
    "from parselogic import match\n",
    "for t1 in tests[:2]: # display the first two test criteria, for an example\n",
    "    print('---------------------------------------\\n'+\n",
    "          'TEST ARGUMENT: '+t1+\n",
    "          '\\n---------------------------------------\\n'+\n",
    "          'MATCH:\\tORIGINAL TEXT:')\n",
    "    for t2 in texts:\n",
    "        matched = match(t1,t2)\n",
    "        print(str(matched)+'\\t'+t2)\n",
    "    print('\\n')\n",
    "        "
   ]
  },
  {
   "cell_type": "markdown",
   "metadata": {},
   "source": [
    "### Basic tokenization and text formatting relies on the _parselogic.reformat()_ function.\n",
    "This is a basic implementation for lower-caseing and whitespacing text so that it is easily searchable and matchable. Text remains in string format at this point. After text is formatted as such, _parselogic.match()_ will be able to implement Boolean matching on it.\n",
    "#### Here are some _parselogic.match()_ Boolean test examples..."
   ]
  },
  {
   "cell_type": "code",
   "execution_count": 7,
   "metadata": {},
   "outputs": [
    {
     "name": "stdout",
     "output_type": "stream",
     "text": [
      "---------------------------------------\n",
      "TEST ARGUMENT: vape\n",
      "---------------------------------------\n",
      "MATCH:\tFORMATTED TEXT:\n",
      "False\t this tweet is about vaping and water - vapor .  \n",
      "True\t but i also want to know more about # vape ,  # vapor ,  and # vapelyfe hashtags ;  \n",
      "True\t or maybe i only want to know about  \" vape \"  \n",
      "False\t  .  .  . and i do like vaporwave music ,  though this is irrelevant !  \n",
      "\n",
      "\n",
      "---------------------------------------\n",
      "TEST ARGUMENT: #vape\n",
      "---------------------------------------\n",
      "MATCH:\tFORMATTED TEXT:\n",
      "False\t this tweet is about vaping and water - vapor .  \n",
      "True\t but i also want to know more about # vape ,  # vapor ,  and # vapelyfe hashtags ;  \n",
      "False\t or maybe i only want to know about  \" vape \"  \n",
      "False\t  .  .  . and i do like vaporwave music ,  though this is irrelevant !  \n",
      "\n",
      "\n",
      "---------------------------------------\n",
      "TEST ARGUMENT: vapor\n",
      "---------------------------------------\n",
      "MATCH:\tFORMATTED TEXT:\n",
      "True\t this tweet is about vaping and water - vapor .  \n",
      "True\t but i also want to know more about # vape ,  # vapor ,  and # vapelyfe hashtags ;  \n",
      "False\t or maybe i only want to know about  \" vape \"  \n",
      "False\t  .  .  . and i do like vaporwave music ,  though this is irrelevant !  \n",
      "\n",
      "\n",
      "---------------------------------------\n",
      "TEST ARGUMENT: vape & vapor\n",
      "---------------------------------------\n",
      "MATCH:\tFORMATTED TEXT:\n",
      "False\t this tweet is about vaping and water - vapor .  \n",
      "True\t but i also want to know more about # vape ,  # vapor ,  and # vapelyfe hashtags ;  \n",
      "False\t or maybe i only want to know about  \" vape \"  \n",
      "False\t  .  .  . and i do like vaporwave music ,  though this is irrelevant !  \n",
      "\n",
      "\n",
      "---------------------------------------\n",
      "TEST ARGUMENT: vape | vapor\n",
      "---------------------------------------\n",
      "MATCH:\tFORMATTED TEXT:\n",
      "True\t this tweet is about vaping and water - vapor .  \n",
      "True\t but i also want to know more about # vape ,  # vapor ,  and # vapelyfe hashtags ;  \n",
      "True\t or maybe i only want to know about  \" vape \"  \n",
      "False\t  .  .  . and i do like vaporwave music ,  though this is irrelevant !  \n",
      "\n",
      "\n",
      "---------------------------------------\n",
      "TEST ARGUMENT: vape & !vapor\n",
      "---------------------------------------\n",
      "MATCH:\tFORMATTED TEXT:\n",
      "False\t this tweet is about vaping and water - vapor .  \n",
      "False\t but i also want to know more about # vape ,  # vapor ,  and # vapelyfe hashtags ;  \n",
      "True\t or maybe i only want to know about  \" vape \"  \n",
      "False\t  .  .  . and i do like vaporwave music ,  though this is irrelevant !  \n",
      "\n",
      "\n",
      "---------------------------------------\n",
      "TEST ARGUMENT: vap*\n",
      "---------------------------------------\n",
      "MATCH:\tFORMATTED TEXT:\n",
      "True\t this tweet is about vaping and water - vapor .  \n",
      "True\t but i also want to know more about # vape ,  # vapor ,  and # vapelyfe hashtags ;  \n",
      "True\t or maybe i only want to know about  \" vape \"  \n",
      "True\t  .  .  . and i do like vaporwave music ,  though this is irrelevant !  \n",
      "\n",
      "\n",
      "---------------------------------------\n",
      "TEST ARGUMENT: vap* & ! know about\n",
      "---------------------------------------\n",
      "MATCH:\tFORMATTED TEXT:\n",
      "True\t this tweet is about vaping and water - vapor .  \n",
      "True\t but i also want to know more about # vape ,  # vapor ,  and # vapelyfe hashtags ;  \n",
      "False\t or maybe i only want to know about  \" vape \"  \n",
      "True\t  .  .  . and i do like vaporwave music ,  though this is irrelevant !  \n",
      "\n",
      "\n",
      "---------------------------------------\n",
      "TEST ARGUMENT: *wave mus*\n",
      "---------------------------------------\n",
      "MATCH:\tFORMATTED TEXT:\n",
      "False\t this tweet is about vaping and water - vapor .  \n",
      "False\t but i also want to know more about # vape ,  # vapor ,  and # vapelyfe hashtags ;  \n",
      "False\t or maybe i only want to know about  \" vape \"  \n",
      "True\t  .  .  . and i do like vaporwave music ,  though this is irrelevant !  \n",
      "\n",
      "\n",
      "---------------------------------------\n",
      "TEST ARGUMENT: vap* & !*wave\n",
      "---------------------------------------\n",
      "MATCH:\tFORMATTED TEXT:\n",
      "True\t this tweet is about vaping and water - vapor .  \n",
      "True\t but i also want to know more about # vape ,  # vapor ,  and # vapelyfe hashtags ;  \n",
      "True\t or maybe i only want to know about  \" vape \"  \n",
      "False\t  .  .  . and i do like vaporwave music ,  though this is irrelevant !  \n",
      "\n",
      "\n"
     ]
    }
   ],
   "source": [
    "# Be sure to first reformat() using mode='kws' (or mode=4.5) in order to do proper matching\n",
    "\n",
    "from parselogic import reformat\n",
    "for t1 in tests:\n",
    "    print('---------------------------------------\\n'+\n",
    "          'TEST ARGUMENT: '+t1+\n",
    "          '\\n---------------------------------------\\n'+\n",
    "          'MATCH:\\tFORMATTED TEXT:')\n",
    "    for t2 in texts:\n",
    "        t2 = reformat(t2,mode='kws') # This is the important step!\n",
    "        matched = match(t1,t2)\n",
    "        print(str(matched)+'\\t'+t2)\n",
    "    print('\\n')\n",
    "    "
   ]
  }
 ],
 "metadata": {
  "kernelspec": {
   "display_name": "Python 3",
   "language": "python",
   "name": "python3"
  },
  "language_info": {
   "codemirror_mode": {
    "name": "ipython",
    "version": 3
   },
   "file_extension": ".py",
   "mimetype": "text/x-python",
   "name": "python",
   "nbconvert_exporter": "python",
   "pygments_lexer": "ipython3",
   "version": "3.6.4"
  }
 },
 "nbformat": 4,
 "nbformat_minor": 2
}
